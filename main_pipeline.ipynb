{
 "cells": [
  {
   "cell_type": "code",
   "execution_count": 18,
   "id": "fc69fa1b-ac11-4e58-8805-70bf0524b01f",
   "metadata": {},
   "outputs": [],
   "source": [
    "import pandas as pd, numpy as np\n",
    "import re, string, json\n",
    "from sklearn.model_selection import train_test_split, cross_val_score\n",
    "from sklearn.feature_extraction.text import TfidfVectorizer\n",
    "from sklearn.linear_model import LogisticRegression\n",
    "from sklearn.ensemble import RandomForestClassifier\n",
    "from sklearn.svm import SVC\n",
    "from sklearn.metrics import classification_report, confusion_matrix\n",
    "import nltk\n",
    "from nltk.corpus import stopwords\n",
    "from nltk.stem import WordNetLemmatizer\n",
    "from textblob import TextBlob\n",
    "import matplotlib.pyplot as plt\n",
    "import seaborn as sns"
   ]
  },
  {
   "cell_type": "code",
   "execution_count": 19,
   "id": "b6c20903-593a-4843-852f-7bf40bd543f4",
   "metadata": {},
   "outputs": [
    {
     "name": "stdout",
     "output_type": "stream",
     "text": [
      "<class 'pandas.core.frame.DataFrame'>\n",
      "RangeIndex: 1000 entries, 0 to 999\n",
      "Data columns (total 5 columns):\n",
      " #   Column         Non-Null Count  Dtype \n",
      "---  ------         --------------  ----- \n",
      " 0   ticket_id      1000 non-null   int64 \n",
      " 1   ticket_text    945 non-null    object\n",
      " 2   issue_type     924 non-null    object\n",
      " 3   urgency_level  948 non-null    object\n",
      " 4   product        1000 non-null   object\n",
      "dtypes: int64(1), object(4)\n",
      "memory usage: 39.2+ KB\n"
     ]
    }
   ],
   "source": [
    "df = pd.read_excel(\"ai_dev_assignment_tickets_complex_1000.xlsx\")\n",
    "df.head()\n",
    "df.info()"
   ]
  },
  {
   "cell_type": "code",
   "execution_count": 20,
   "id": "97677a6f-202d-454e-b931-f9457b8f179c",
   "metadata": {},
   "outputs": [
    {
     "name": "stderr",
     "output_type": "stream",
     "text": [
      "[nltk_data] Downloading package stopwords to\n",
      "[nltk_data]     C:\\Users\\naman\\AppData\\Roaming\\nltk_data...\n",
      "[nltk_data]   Package stopwords is already up-to-date!\n",
      "[nltk_data] Downloading package wordnet to\n",
      "[nltk_data]     C:\\Users\\naman\\AppData\\Roaming\\nltk_data...\n",
      "[nltk_data]   Package wordnet is already up-to-date!\n"
     ]
    }
   ],
   "source": [
    "nltk.download('stopwords')\n",
    "nltk.download('wordnet')\n",
    "stop_words = set(stopwords.words('english'))\n",
    "lemmatizer = WordNetLemmatizer()\n",
    "\n",
    "def preprocess(text):\n",
    "    text = str(text).lower()\n",
    "    text = re.sub(r'\\d+', '', text)\n",
    "    text = text.translate(str.maketrans('', '', string.punctuation))\n",
    "    tokens = text.split()\n",
    "    tokens = [lemmatizer.lemmatize(word) for word in tokens if word not in stop_words]\n",
    "    return ' '.join(tokens)\n",
    "\n",
    "df['clean_text'] = df['ticket_text'].apply(preprocess)"
   ]
  },
  {
   "cell_type": "code",
   "execution_count": 21,
   "id": "fd704838-6bde-445c-9db4-a929aa047b93",
   "metadata": {},
   "outputs": [],
   "source": [
    "df.dropna(subset=['ticket_text', 'issue_type', 'urgency_level', 'product'], inplace=True)"
   ]
  },
  {
   "cell_type": "code",
   "execution_count": 22,
   "id": "a407986a-b294-4ddc-a8db-c1171d938c49",
   "metadata": {},
   "outputs": [],
   "source": [
    "tfidf = TfidfVectorizer(max_features=500)\n",
    "X_tfidf = tfidf.fit_transform(df['clean_text'])"
   ]
  },
  {
   "cell_type": "code",
   "execution_count": 23,
   "id": "ef985854-6cee-4f56-a23e-19e93defeabe",
   "metadata": {},
   "outputs": [],
   "source": [
    "df['text_len'] = df['ticket_text'].apply(len)\n",
    "df['sentiment'] = df['ticket_text'].apply(lambda x: TextBlob(x).sentiment.polarity)\n",
    "X_extra = df[['text_len', 'sentiment']].values"
   ]
  },
  {
   "cell_type": "code",
   "execution_count": 24,
   "id": "05984919-fafa-404a-9f24-a51fdc434039",
   "metadata": {},
   "outputs": [],
   "source": [
    "from scipy.sparse import hstack\n",
    "X_combined = hstack([X_tfidf, X_extra])"
   ]
  },
  {
   "cell_type": "code",
   "execution_count": 25,
   "id": "9a160e4a-a37f-41ff-82e6-62cd01c15f06",
   "metadata": {},
   "outputs": [],
   "source": [
    "X_train, X_test, y1_train, y1_test = train_test_split(X_combined, df['issue_type'], test_size=0.2, random_state=42)\n",
    "_, _, y2_train, y2_test = train_test_split(X_combined, df['urgency_level'], test_size=0.2, random_state=42)"
   ]
  },
  {
   "cell_type": "code",
   "execution_count": 26,
   "id": "c88cf1b3-8e3b-4d7f-be1a-2506caccddf0",
   "metadata": {},
   "outputs": [
    {
     "name": "stdout",
     "output_type": "stream",
     "text": [
      "                    precision    recall  f1-score   support\n",
      "\n",
      "    Account Access       1.00      1.00      1.00        23\n",
      "   Billing Problem       1.00      1.00      1.00        19\n",
      "   General Inquiry       1.00      1.00      1.00        25\n",
      "Installation Issue       1.00      1.00      1.00        29\n",
      "     Late Delivery       1.00      1.00      1.00        17\n",
      "    Product Defect       1.00      1.00      1.00        30\n",
      "        Wrong Item       1.00      1.00      1.00        23\n",
      "\n",
      "          accuracy                           1.00       166\n",
      "         macro avg       1.00      1.00      1.00       166\n",
      "      weighted avg       1.00      1.00      1.00       166\n",
      "\n"
     ]
    }
   ],
   "source": [
    "issue_clf = RandomForestClassifier()\n",
    "issue_clf.fit(X_train, y1_train)\n",
    "y1_pred = issue_clf.predict(X_test)\n",
    "print(classification_report(y1_test, y1_pred))"
   ]
  },
  {
   "cell_type": "code",
   "execution_count": 27,
   "id": "7bb3819c-13a0-4cd6-9d98-28e8191b637c",
   "metadata": {},
   "outputs": [
    {
     "name": "stdout",
     "output_type": "stream",
     "text": [
      "              precision    recall  f1-score   support\n",
      "\n",
      "        High       0.40      0.36      0.38        66\n",
      "         Low       0.29      0.35      0.32        43\n",
      "      Medium       0.33      0.32      0.32        57\n",
      "\n",
      "    accuracy                           0.34       166\n",
      "   macro avg       0.34      0.34      0.34       166\n",
      "weighted avg       0.35      0.34      0.34       166\n",
      "\n"
     ]
    }
   ],
   "source": [
    "urgency_clf = LogisticRegression(max_iter=500)\n",
    "urgency_clf.fit(X_train, y2_train)\n",
    "y2_pred = urgency_clf.predict(X_test)\n",
    "print(classification_report(y2_test, y2_pred))"
   ]
  },
  {
   "cell_type": "code",
   "execution_count": 28,
   "id": "c0d4375c-8ba6-430c-9742-e2a88d340299",
   "metadata": {},
   "outputs": [],
   "source": [
    "complaint_keywords = ['broken', 'error', 'not working', 'late', 'damaged', 'failed']\n",
    "date_pattern = r'\\b(?:\\d{1,2}[/-]\\d{1,2}(?:[/-]\\d{2,4})?)\\b'"
   ]
  },
  {
   "cell_type": "code",
   "execution_count": 29,
   "id": "31985fbe",
   "metadata": {},
   "outputs": [
    {
     "data": {
      "text/plain": [
       "['tfidf_vectorizer.pkl']"
      ]
     },
     "execution_count": 29,
     "metadata": {},
     "output_type": "execute_result"
    }
   ],
   "source": [
    "import joblib\n",
    "joblib.dump(issue_clf, \"issue_model.pkl\")\n",
    "joblib.dump(urgency_clf, \"urgency_model.pkl\")\n",
    "joblib.dump(tfidf, \"tfidf_vectorizer.pkl\")"
   ]
  },
  {
   "cell_type": "code",
   "execution_count": 30,
   "id": "8b31a9fa-d32c-4f0d-971f-1bb53fa5f755",
   "metadata": {},
   "outputs": [],
   "source": [
    "product_list = df['product'].dropna().unique().tolist()\n",
    "with open(\"product_list.json\", \"w\") as f:\n",
    "    json.dump(product_list, f)\n",
    "\n",
    "with open(\"complaint_keywords.json\", \"w\") as f:\n",
    "    json.dump(complaint_keywords, f)"
   ]
  }
 ],
 "metadata": {
  "kernelspec": {
   "display_name": "Python 3 (ipykernel)",
   "language": "python",
   "name": "python3"
  },
  "language_info": {
   "codemirror_mode": {
    "name": "ipython",
    "version": 3
   },
   "file_extension": ".py",
   "mimetype": "text/x-python",
   "name": "python",
   "nbconvert_exporter": "python",
   "pygments_lexer": "ipython3",
   "version": "3.12.7"
  }
 },
 "nbformat": 4,
 "nbformat_minor": 5
}
